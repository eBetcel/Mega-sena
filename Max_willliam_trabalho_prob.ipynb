{
 "cells": [
  {
   "cell_type": "code",
   "execution_count": 5,
   "metadata": {
    "scrolled": true
   },
   "outputs": [
    {
     "name": "stdout",
     "output_type": "stream",
     "text": [
      "[u'MegaSena']\n"
     ]
    },
    {
     "data": {
      "text/html": [
       "<div>\n",
       "<style>\n",
       "    .dataframe thead tr:only-child th {\n",
       "        text-align: right;\n",
       "    }\n",
       "\n",
       "    .dataframe thead th {\n",
       "        text-align: left;\n",
       "    }\n",
       "\n",
       "    .dataframe tbody tr th {\n",
       "        vertical-align: top;\n",
       "    }\n",
       "</style>\n",
       "<table border=\"1\" class=\"dataframe\">\n",
       "  <thead>\n",
       "    <tr style=\"text-align: right;\">\n",
       "      <th></th>\n",
       "      <th>Concurso</th>\n",
       "      <th>Data Sorteio</th>\n",
       "      <th>Dezena1</th>\n",
       "      <th>Dezena2</th>\n",
       "      <th>Dezena3</th>\n",
       "      <th>Dezena4</th>\n",
       "      <th>Dezena5</th>\n",
       "      <th>Dezena6</th>\n",
       "      <th>Arrecadacao_Total</th>\n",
       "      <th>Ganhadores_Sena</th>\n",
       "      <th>Rateio_Sena</th>\n",
       "      <th>Ganhadores_Quina</th>\n",
       "      <th>Rateio_Quina</th>\n",
       "      <th>Ganhadores_Quadra</th>\n",
       "      <th>Rateio_Quadra</th>\n",
       "      <th>Acumulado</th>\n",
       "      <th>Valor_Acumulado</th>\n",
       "      <th>Estimativa_Prêmio</th>\n",
       "    </tr>\n",
       "  </thead>\n",
       "  <tbody>\n",
       "    <tr>\n",
       "      <th>0</th>\n",
       "      <td>1</td>\n",
       "      <td>1996-03-11</td>\n",
       "      <td>41</td>\n",
       "      <td>5</td>\n",
       "      <td>4</td>\n",
       "      <td>52</td>\n",
       "      <td>30</td>\n",
       "      <td>33</td>\n",
       "      <td>0.0</td>\n",
       "      <td>0</td>\n",
       "      <td>0.00</td>\n",
       "      <td>17</td>\n",
       "      <td>39158.92</td>\n",
       "      <td>2016</td>\n",
       "      <td>330.21</td>\n",
       "      <td>SIM</td>\n",
       "      <td>1714650.23</td>\n",
       "      <td>0</td>\n",
       "    </tr>\n",
       "    <tr>\n",
       "      <th>1</th>\n",
       "      <td>2</td>\n",
       "      <td>1996-03-18</td>\n",
       "      <td>9</td>\n",
       "      <td>39</td>\n",
       "      <td>37</td>\n",
       "      <td>49</td>\n",
       "      <td>43</td>\n",
       "      <td>41</td>\n",
       "      <td>0.0</td>\n",
       "      <td>1</td>\n",
       "      <td>2307162.23</td>\n",
       "      <td>65</td>\n",
       "      <td>14424.02</td>\n",
       "      <td>4488</td>\n",
       "      <td>208.91</td>\n",
       "      <td>NÃO</td>\n",
       "      <td>0.00</td>\n",
       "      <td>0</td>\n",
       "    </tr>\n",
       "    <tr>\n",
       "      <th>2</th>\n",
       "      <td>3</td>\n",
       "      <td>1996-03-25</td>\n",
       "      <td>36</td>\n",
       "      <td>30</td>\n",
       "      <td>10</td>\n",
       "      <td>11</td>\n",
       "      <td>29</td>\n",
       "      <td>47</td>\n",
       "      <td>0.0</td>\n",
       "      <td>2</td>\n",
       "      <td>391192.51</td>\n",
       "      <td>62</td>\n",
       "      <td>10515.93</td>\n",
       "      <td>4261</td>\n",
       "      <td>153.01</td>\n",
       "      <td>NÃO</td>\n",
       "      <td>0.00</td>\n",
       "      <td>0</td>\n",
       "    </tr>\n",
       "    <tr>\n",
       "      <th>3</th>\n",
       "      <td>4</td>\n",
       "      <td>1996-04-01</td>\n",
       "      <td>6</td>\n",
       "      <td>59</td>\n",
       "      <td>42</td>\n",
       "      <td>27</td>\n",
       "      <td>1</td>\n",
       "      <td>5</td>\n",
       "      <td>0.0</td>\n",
       "      <td>0</td>\n",
       "      <td>0.00</td>\n",
       "      <td>39</td>\n",
       "      <td>15322.24</td>\n",
       "      <td>3311</td>\n",
       "      <td>180.48</td>\n",
       "      <td>SIM</td>\n",
       "      <td>717080.75</td>\n",
       "      <td>0</td>\n",
       "    </tr>\n",
       "    <tr>\n",
       "      <th>4</th>\n",
       "      <td>5</td>\n",
       "      <td>1996-04-08</td>\n",
       "      <td>1</td>\n",
       "      <td>19</td>\n",
       "      <td>46</td>\n",
       "      <td>6</td>\n",
       "      <td>16</td>\n",
       "      <td>2</td>\n",
       "      <td>0.0</td>\n",
       "      <td>0</td>\n",
       "      <td>0.00</td>\n",
       "      <td>98</td>\n",
       "      <td>5318.10</td>\n",
       "      <td>5399</td>\n",
       "      <td>96.53</td>\n",
       "      <td>SIM</td>\n",
       "      <td>1342488.85</td>\n",
       "      <td>0</td>\n",
       "    </tr>\n",
       "  </tbody>\n",
       "</table>\n",
       "</div>"
      ],
      "text/plain": [
       "   Concurso Data Sorteio  Dezena1  Dezena2  Dezena3  Dezena4  Dezena5  \\\n",
       "0         1   1996-03-11       41        5        4       52       30   \n",
       "1         2   1996-03-18        9       39       37       49       43   \n",
       "2         3   1996-03-25       36       30       10       11       29   \n",
       "3         4   1996-04-01        6       59       42       27        1   \n",
       "4         5   1996-04-08        1       19       46        6       16   \n",
       "\n",
       "   Dezena6  Arrecadacao_Total  Ganhadores_Sena  Rateio_Sena  Ganhadores_Quina  \\\n",
       "0       33                0.0                0         0.00                17   \n",
       "1       41                0.0                1   2307162.23                65   \n",
       "2       47                0.0                2    391192.51                62   \n",
       "3        5                0.0                0         0.00                39   \n",
       "4        2                0.0                0         0.00                98   \n",
       "\n",
       "   Rateio_Quina  Ganhadores_Quadra  Rateio_Quadra Acumulado  Valor_Acumulado  \\\n",
       "0      39158.92               2016         330.21       SIM       1714650.23   \n",
       "1      14424.02               4488         208.91       NÃO             0.00   \n",
       "2      10515.93               4261         153.01       NÃO             0.00   \n",
       "3      15322.24               3311         180.48       SIM        717080.75   \n",
       "4       5318.10               5399          96.53       SIM       1342488.85   \n",
       "\n",
       "   Estimativa_Prêmio  \n",
       "0                  0  \n",
       "1                  0  \n",
       "2                  0  \n",
       "3                  0  \n",
       "4                  0  "
      ]
     },
     "execution_count": 5,
     "metadata": {},
     "output_type": "execute_result"
    }
   ],
   "source": [
    "import pandas as pd\n",
    "import matplotlib.pyplot as plt\n",
    "excel = pd.ExcelFile('basedados.xlsx')\n",
    "print (excel.sheet_names)\n",
    "\n",
    "data = excel.parse(0)\n",
    "\n",
    "data.head()\n",
    "\n",
    "# Abrindo a planilha para ter-se uma primeira noção de como está organizada\n",
    "\n",
    "# O detalhe mais óbvio é perceber que existem sorteios pontualmente toda semana \n",
    "# (sinceramente eu não sabia, imaginava que eram mensais)"
   ]
  },
  {
   "cell_type": "code",
   "execution_count": 6,
   "metadata": {},
   "outputs": [
    {
     "data": {
      "text/plain": [
       "5     233\n",
       "53    230\n",
       "10    227\n",
       "23    224\n",
       "4     224\n",
       "54    221\n",
       "51    220\n",
       "24    220\n",
       "33    219\n",
       "17    218\n",
       "52    217\n",
       "28    217\n",
       "42    216\n",
       "32    215\n",
       "30    213\n",
       "43    212\n",
       "16    211\n",
       "41    210\n",
       "34    210\n",
       "50    209\n",
       "2     209\n",
       "13    209\n",
       "36    208\n",
       "29    207\n",
       "37    207\n",
       "56    207\n",
       "27    206\n",
       "44    205\n",
       "6     204\n",
       "1     202\n",
       "8     202\n",
       "59    201\n",
       "45    201\n",
       "18    201\n",
       "47    200\n",
       "49    200\n",
       "35    200\n",
       "12    199\n",
       "38    197\n",
       "20    195\n",
       "58    195\n",
       "11    195\n",
       "31    194\n",
       "46    193\n",
       "40    191\n",
       "3     191\n",
       "7     191\n",
       "60    190\n",
       "48    190\n",
       "14    189\n",
       "39    188\n",
       "57    188\n",
       "19    186\n",
       "25    184\n",
       "9     183\n",
       "15    183\n",
       "21    178\n",
       "22    177\n",
       "55    174\n",
       "26    164\n",
       "dtype: int64"
      ]
     },
     "execution_count": 6,
     "metadata": {},
     "output_type": "execute_result"
    }
   ],
   "source": [
    "# Nesta celula analiso quais dezenas foram sorteadas com maior frequência em todos os sorteios\n",
    "# do dataset\n",
    "cols = ['Dezena1','Dezena2','Dezena3','Dezena4','Dezena5','Dezena6'] \n",
    "unsta = data.copy()\n",
    "\n",
    "unsta = unsta[cols]\n",
    "unsta = unsta.unstack().value_counts()\n",
    "unsta\n",
    "# possivelmente o apostador em questão tenha uma probabilidade maior de ganhar algum dos prêmios\n",
    "# utilizando os seis primeiros numeros (os quais sao os sorteados com mais frêquencia)"
   ]
  },
  {
   "cell_type": "code",
   "execution_count": 14,
   "metadata": {},
   "outputs": [
    {
     "name": "stdout",
     "output_type": "stream",
     "text": [
      "('Primeiro sorteio: ', Timestamp('1996-03-11 00:00:00'))\n",
      "('Ultimo sorteio: ', Timestamp('2018-03-24 00:00:00'))\n",
      "('Diferen\\xc3\\xa7a em anos entre o primeiro e ultimo sorteio: ', 22)\n"
     ]
    }
   ],
   "source": [
    "# Nesta celula recolhemos a data do primeiro sorteio e do ultimo para sabermos há quanto tempo\n",
    "# a megasena existe\n",
    "d1 = data['Data Sorteio'][0]\n",
    "d2 = data['Data Sorteio'].iloc[-1]\n",
    "print(\"Primeiro sorteio: \",d1)\n",
    "print(\"Ultimo sorteio: \" ,d2)\n",
    "diferenca = (2018-1996)*365 + (3 -3)*30 + (24-11) # diferença em dias\n",
    "diferenca = diferenca/365 # diferença em anos\n",
    "print (\"Diferença em anos entre o primeiro e ultimo sorteio: \", int(diferenca))\n",
    "\n",
    "# Surpreendentemente existem sorteios semanais há 22 anos !!!\n",
    "# Isso nos levar a ponderar, certamente deve ser muito lucrativo para quem administra a megasena\n",
    "# a próxima celula nos dará uma pequena dica do porquê"
   ]
  },
  {
   "cell_type": "code",
   "execution_count": 8,
   "metadata": {},
   "outputs": [
    {
     "name": "stdout",
     "output_type": "stream",
     "text": [
      "1548\n",
      "76%\n"
     ]
    }
   ],
   "source": [
    "# Aqui separamos os concursos em acumulados e não-acumulados \n",
    "acumulados = 0;\n",
    "for x in data.Acumulado:\n",
    "    if x == 'SIM':\n",
    "        acumulados = acumulados +1\n",
    "        \n",
    "print (acumulados)\n",
    "\n",
    "print (str(int (acumulados*100/len(data.Concurso))) + '%')\n",
    "\n",
    "# Surpreendentemente 76% dos concursos são acumulados! certamente é um negócio mais do que vantajoso.\n",
    "# Atualmente o preço mínimo para um jogo na megasena é de R$ 3,50.\n",
    "# Supondo que 1 milhão de pessoas comprasse toda semana, seria um lucro de 3 milhões\n",
    "# e meio de reais, e como apenas 25% dos concursos não são acumulados podemos dizer que\n",
    "# apenas 1 vez no mês um concurso é ganho. Neste prazo ja teria sido arrecadado 14 milhões!"
   ]
  },
  {
   "cell_type": "code",
   "execution_count": 9,
   "metadata": {},
   "outputs": [
    {
     "name": "stdout",
     "output_type": "stream",
     "text": [
      "12334568.118\n",
      "5968183.41827\n"
     ]
    }
   ],
   "source": [
    "# Nesta célula podemos ver que nossas expectativas se confirmaram, em média a quantidade\n",
    "# de dinheiro acumulada é praticamente o dobro da quantidade de dinheiro 'perdida'\n",
    "# pelos administradores do evento quando alguem vence.\n",
    "\n",
    "# Copiamos a celula para nao correr o risco de modificar o dataset original\n",
    "data_novos = data.copy()\n",
    "# Usamos a formula Premio_maximo = Numero de ganhadores * rateio \n",
    "# Assim, saberemos quanto seria o prêmio caso apenas uma pessoa tivesse ganhado\n",
    "# (ou quanto dinheiro foi retirado do lucro dos administradores da mega sena)\n",
    "data_novos['premio_maximo'] = data['Ganhadores_Sena'] * data ['Rateio_Sena'] \n",
    "\n",
    "print(data.Valor_Acumulado.mean())\n",
    "print(data_novos.premio_maximo.mean())"
   ]
  },
  {
   "cell_type": "code",
   "execution_count": 10,
   "metadata": {},
   "outputs": [
    {
     "name": "stdout",
     "output_type": "stream",
     "text": [
      "12334568.118\n",
      "10491209.3473\n"
     ]
    }
   ],
   "source": [
    "# Ainda que juntássemos o valor dos prêmios da Quadra e da Quina \n",
    "# haveria um lucro significativo de 20 milhões em media\n",
    "data_novos['premio_maximo_total'] = data_novos['premio_maximo'] + data['Ganhadores_Quadra'] \\\n",
    "                                                                * data['Rateio_Quadra']\n",
    "\n",
    "data_novos['premio_maximo_total'] += data[\"Ganhadores_Quina\"] * data['Rateio_Quina']\n",
    "print(data.Valor_Acumulado.mean())\n",
    "print(data_novos.premio_maximo_total.mean())"
   ]
  },
  {
   "cell_type": "code",
   "execution_count": 11,
   "metadata": {},
   "outputs": [
    {
     "name": "stdout",
     "output_type": "stream",
     "text": [
      "22673370.7841\n",
      "10491209.3473\n",
      "0    0.0\n",
      "1    0.0\n",
      "2    0.0\n",
      "3    0.0\n",
      "4    0.0\n",
      "Name: Arrecadacao_Total, dtype: float64\n"
     ]
    }
   ],
   "source": [
    "# E isto são comparações feitas apenas com os acumulados da Sena!!! \n",
    "# A discrepância da arredação com o gasto em prêmios salta aos olhos quando comparados\n",
    "# com a arredação bruta\n",
    "\n",
    "print(data.Arrecadacao_Total.mean())\n",
    "print(data_novos.premio_maximo_total.mean())\n",
    "# A media de arrecadação é mais do que o dobro da media dos valores dos prêmios!!! porém observe :\n",
    "print(data.Arrecadacao_Total.head())"
   ]
  },
  {
   "cell_type": "code",
   "execution_count": 31,
   "metadata": {},
   "outputs": [
    {
     "name": "stdout",
     "output_type": "stream",
     "text": [
      "('Media de arrecadacao: ', 48077042.76204188)\n",
      "('Media da premiacao:   ', 15973950.534670161)\n"
     ]
    }
   ],
   "source": [
    "# Em primeiro relance podemos ver que em alguns concursos o valor da arrecadação total\n",
    "# não era divulgado. Assim, retiraremos do dataset todos os concursos com arrecadação não \n",
    "# computada para termos mais credibilidade em nossa analise\n",
    "\n",
    "exclusao = []\n",
    "for index,arrec in enumerate(data.Arrecadacao_Total):\n",
    "    if arrec == 0:\n",
    "        exclusao.append(index)\n",
    "\n",
    "        \n",
    "bad_df = data.index.isin(exclusao)\n",
    "data_arrec = data[~bad_df].copy()\n",
    "# Agora podemos comparar a arrecadação com a media dos premios em concursos cuja arrecadação\n",
    "# foi divulgada.\n",
    "# Antes, faremos novamente o calculo para os prêmios totais, porém na data_arrec\n",
    "data_arrec['premio_maximo_total'] = data_arrec['Ganhadores_Sena'] * data_arrec['Rateio_Sena']\n",
    "data_arrec['premio_maximo_total'] += data_arrec['Ganhadores_Quadra'] * data_arrec['Rateio_Quadra']\n",
    "data_arrec['premio_maximo_total'] += data_arrec['Ganhadores_Quina'] * data_arrec['Rateio_Quina']\n",
    "\n",
    "print(\"Media de arrecadacao: \",data_arrec.Arrecadacao_Total.mean())\n",
    "print(\"Media da premiacao:   \", data_arrec.premio_maximo_total.mean())\n",
    "\n",
    "# Podemos observar que a média da arrecadação é mais do que o triplo da média das premiações.\n",
    "# Podemos afirmar conforme estas evidências que é inegavelmente uma bela forma de arrecadar dinheiro\n",
    "# Entretanto, algo nos salta aos olhos: a média das premiações aumentou, por quê?"
   ]
  },
  {
   "cell_type": "code",
   "execution_count": 29,
   "metadata": {},
   "outputs": [
    {
     "data": {
      "image/png": "[encoded data removed]",
      "text/plain": [
       "<matplotlib.figure.Figure at 0x7feb7ae22550>"
      ]
     },
     "metadata": {},
     "output_type": "display_data"
    }
   ],
   "source": [
    "# O gráfico abaixo nos permite inferir duas possíveis conclusões a partir do fato de que o valor acumulado \n",
    "# aumentou com os anos, mas vemos também diversos picos no grafico, uma sugestao inicial pode ser que sejam estes \n",
    "# os periodos onde a sena havia acumulado muito( fazendo com que muitos quisessem arriscar).\n",
    "# Voltando a nossa duvida inicial, podemos inferir duas coisas: \n",
    "# 1) O preço da mega-sena aumentou com os anos, algo que aconteceu sem dúvida, devido a inflacão.\n",
    "# 2) A quantidade de pessoas que se arriscam na mega-sena aumentou, será que a promessa de um futuro milionario \n",
    "#    realmente tomou as redeas dos sonhos da populacão brasileira?\n",
    "\n",
    "fig = plt.figure(figsize=(14,9))\n",
    "plt.plot(data['Data Sorteio'], data['Valor_Acumulado'],label='Valor Acumulado')\n",
    "plt.ylabel('Valor Acumulado')\n",
    "plt.xlabel('Sorteios durante os anos')\n",
    "plt.legend(loc='upper right')\n",
    "plt.title('Acumulo em relacao aos sorteios')\n",
    "plt.show()"
   ]
  }
 ],
 "metadata": {
  "kernelspec": {
   "display_name": "Python 2",
   "language": "python",
   "name": "python2"
  },
  "language_info": {
   "codemirror_mode": {
    "name": "ipython",
    "version": 2
   },
   "file_extension": ".py",
   "mimetype": "text/x-python",
   "name": "python",
   "nbconvert_exporter": "python",
   "pygments_lexer": "ipython2",
   "version": "2.7.13"
  }
 },
 "nbformat": 4,
 "nbformat_minor": 2
}
